{
 "cells": [
  {
   "cell_type": "code",
   "execution_count": 13,
   "id": "89fdc362-988c-4736-bb4e-55fa7d6d15ac",
   "metadata": {},
   "outputs": [],
   "source": [
    "from ms_mint import Mint"
   ]
  },
  {
   "cell_type": "code",
   "execution_count": 14,
   "id": "f5908f6d-925c-49ec-bb1b-f5908d2c11ea",
   "metadata": {},
   "outputs": [
    {
     "data": {
      "text/plain": [
       "<ms_mint.Mint.Mint at 0x7effc043e080>"
      ]
     },
     "execution_count": 14,
     "metadata": {},
     "output_type": "execute_result"
    }
   ],
   "source": [
    "mint = Mint()\n",
    "mint.load_metadata('input/metadata.csv')"
   ]
  },
  {
   "cell_type": "code",
   "execution_count": 21,
   "id": "587c3313-e4a8-4a25-bec4-2530d6ba6903",
   "metadata": {},
   "outputs": [],
   "source": [
    "(mint.meta.reset_index().ms_file_label + '.raw').to_csv('list-of-ms_files.csv')"
   ]
  },
  {
   "cell_type": "code",
   "execution_count": null,
   "id": "f97d58b5-94a3-4f56-a9c3-db43b0ce38e0",
   "metadata": {},
   "outputs": [],
   "source": []
  }
 ],
 "metadata": {
  "kernelspec": {
   "display_name": "ms-mint",
   "language": "python",
   "name": "ms-mint"
  },
  "language_info": {
   "codemirror_mode": {
    "name": "ipython",
    "version": 3
   },
   "file_extension": ".py",
   "mimetype": "text/x-python",
   "name": "python",
   "nbconvert_exporter": "python",
   "pygments_lexer": "ipython3",
   "version": "3.10.8"
  }
 },
 "nbformat": 4,
 "nbformat_minor": 5
}
